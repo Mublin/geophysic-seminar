{
 "cells": [
  {
   "cell_type": "code",
   "execution_count": 78,
   "id": "d0ab4bbe",
   "metadata": {},
   "outputs": [],
   "source": [
    "import numpy as np\n",
    "import pandas as pd\n",
    "from sklearn.linear_model import LogisticRegression\n",
    "from sklearn.model_selection import train_test_split\n",
    "from sklearn.metrics import accuracy_score"
   ]
  },
  {
   "cell_type": "code",
   "execution_count": 79,
   "id": "a47a0e07",
   "metadata": {},
   "outputs": [],
   "source": [
    "# Data Collection and Proccessing\n",
    "drilling_data = pd.read_csv('Data4.csv')"
   ]
  },
  {
   "cell_type": "code",
   "execution_count": 80,
   "id": "685a0ea7",
   "metadata": {},
   "outputs": [
    {
     "data": {
      "text/plain": [
       "(22, 20)"
      ]
     },
     "execution_count": 80,
     "metadata": {},
     "output_type": "execute_result"
    }
   ],
   "source": [
    "drilling_data.shape"
   ]
  },
  {
   "cell_type": "code",
   "execution_count": 81,
   "id": "69dc35c4",
   "metadata": {},
   "outputs": [
    {
     "data": {
      "text/plain": [
       "Good for groundwater    17\n",
       "Not recommended          5\n",
       "Name: Recommendation, dtype: int64"
      ]
     },
     "execution_count": 81,
     "metadata": {},
     "output_type": "execute_result"
    }
   ],
   "source": [
    "drilling_data['Recommendation'].value_counts()"
   ]
  },
  {
   "cell_type": "code",
   "execution_count": 82,
   "id": "c8e733db",
   "metadata": {},
   "outputs": [
    {
     "name": "stderr",
     "output_type": "stream",
     "text": [
      "C:\\Users\\ZAINAB\\AppData\\Local\\Temp\\ipykernel_12260\\2087005926.py:1: FutureWarning: The default value of numeric_only in DataFrameGroupBy.mean is deprecated. In a future version, numeric_only will default to False. Either specify numeric_only or select only columns which should be valid for the function.\n",
      "  drilling_data.groupby('Drilling Meter').mean()\n"
     ]
    },
    {
     "data": {
      "text/html": [
       "<div>\n",
       "<style scoped>\n",
       "    .dataframe tbody tr th:only-of-type {\n",
       "        vertical-align: middle;\n",
       "    }\n",
       "\n",
       "    .dataframe tbody tr th {\n",
       "        vertical-align: top;\n",
       "    }\n",
       "\n",
       "    .dataframe thead th {\n",
       "        text-align: right;\n",
       "    }\n",
       "</style>\n",
       "<table border=\"1\" class=\"dataframe\">\n",
       "  <thead>\n",
       "    <tr style=\"text-align: right;\">\n",
       "      <th></th>\n",
       "      <th>1</th>\n",
       "      <th>1.5</th>\n",
       "      <th>2</th>\n",
       "      <th>3</th>\n",
       "      <th>5</th>\n",
       "      <th>7</th>\n",
       "      <th>10</th>\n",
       "      <th>15</th>\n",
       "      <th>20</th>\n",
       "      <th>25</th>\n",
       "      <th>30</th>\n",
       "      <th>40</th>\n",
       "      <th>50</th>\n",
       "      <th>60</th>\n",
       "      <th>70</th>\n",
       "      <th>80</th>\n",
       "      <th>100</th>\n",
       "      <th>Layers</th>\n",
       "    </tr>\n",
       "    <tr>\n",
       "      <th>Drilling Meter</th>\n",
       "      <th></th>\n",
       "      <th></th>\n",
       "      <th></th>\n",
       "      <th></th>\n",
       "      <th></th>\n",
       "      <th></th>\n",
       "      <th></th>\n",
       "      <th></th>\n",
       "      <th></th>\n",
       "      <th></th>\n",
       "      <th></th>\n",
       "      <th></th>\n",
       "      <th></th>\n",
       "      <th></th>\n",
       "      <th></th>\n",
       "      <th></th>\n",
       "      <th></th>\n",
       "      <th></th>\n",
       "    </tr>\n",
       "  </thead>\n",
       "  <tbody>\n",
       "    <tr>\n",
       "      <th>0</th>\n",
       "      <td>244.4</td>\n",
       "      <td>223.000000</td>\n",
       "      <td>252.000000</td>\n",
       "      <td>262.6</td>\n",
       "      <td>255.0</td>\n",
       "      <td>304.200000</td>\n",
       "      <td>355.000000</td>\n",
       "      <td>398.200000</td>\n",
       "      <td>322.600000</td>\n",
       "      <td>297.0</td>\n",
       "      <td>404.2</td>\n",
       "      <td>493.4</td>\n",
       "      <td>528.000000</td>\n",
       "      <td>542.200000</td>\n",
       "      <td>598.400000</td>\n",
       "      <td>695.4</td>\n",
       "      <td>795.4</td>\n",
       "      <td>5.0</td>\n",
       "    </tr>\n",
       "    <tr>\n",
       "      <th>50</th>\n",
       "      <td>292.5</td>\n",
       "      <td>245.500000</td>\n",
       "      <td>215.000000</td>\n",
       "      <td>202.5</td>\n",
       "      <td>203.0</td>\n",
       "      <td>134.500000</td>\n",
       "      <td>108.500000</td>\n",
       "      <td>46.500000</td>\n",
       "      <td>48.500000</td>\n",
       "      <td>53.5</td>\n",
       "      <td>49.0</td>\n",
       "      <td>55.5</td>\n",
       "      <td>91.000000</td>\n",
       "      <td>100.000000</td>\n",
       "      <td>130.000000</td>\n",
       "      <td>145.0</td>\n",
       "      <td>201.0</td>\n",
       "      <td>5.0</td>\n",
       "    </tr>\n",
       "    <tr>\n",
       "      <th>55</th>\n",
       "      <td>282.0</td>\n",
       "      <td>235.666667</td>\n",
       "      <td>229.666667</td>\n",
       "      <td>125.0</td>\n",
       "      <td>90.0</td>\n",
       "      <td>72.333333</td>\n",
       "      <td>45.666667</td>\n",
       "      <td>44.666667</td>\n",
       "      <td>48.333333</td>\n",
       "      <td>54.0</td>\n",
       "      <td>65.0</td>\n",
       "      <td>65.0</td>\n",
       "      <td>96.666667</td>\n",
       "      <td>113.333333</td>\n",
       "      <td>132.333333</td>\n",
       "      <td>144.0</td>\n",
       "      <td>189.0</td>\n",
       "      <td>5.0</td>\n",
       "    </tr>\n",
       "    <tr>\n",
       "      <th>60</th>\n",
       "      <td>856.0</td>\n",
       "      <td>955.000000</td>\n",
       "      <td>713.000000</td>\n",
       "      <td>527.5</td>\n",
       "      <td>271.5</td>\n",
       "      <td>90.000000</td>\n",
       "      <td>45.500000</td>\n",
       "      <td>39.000000</td>\n",
       "      <td>38.000000</td>\n",
       "      <td>41.5</td>\n",
       "      <td>55.5</td>\n",
       "      <td>48.5</td>\n",
       "      <td>74.000000</td>\n",
       "      <td>86.500000</td>\n",
       "      <td>84.500000</td>\n",
       "      <td>90.5</td>\n",
       "      <td>148.0</td>\n",
       "      <td>5.0</td>\n",
       "    </tr>\n",
       "    <tr>\n",
       "      <th>65</th>\n",
       "      <td>781.6</td>\n",
       "      <td>701.400000</td>\n",
       "      <td>631.400000</td>\n",
       "      <td>419.6</td>\n",
       "      <td>277.4</td>\n",
       "      <td>114.800000</td>\n",
       "      <td>74.200000</td>\n",
       "      <td>73.200000</td>\n",
       "      <td>62.400000</td>\n",
       "      <td>66.6</td>\n",
       "      <td>77.8</td>\n",
       "      <td>100.0</td>\n",
       "      <td>124.400000</td>\n",
       "      <td>172.600000</td>\n",
       "      <td>220.600000</td>\n",
       "      <td>281.0</td>\n",
       "      <td>339.6</td>\n",
       "      <td>5.0</td>\n",
       "    </tr>\n",
       "    <tr>\n",
       "      <th>70</th>\n",
       "      <td>1261.8</td>\n",
       "      <td>1056.800000</td>\n",
       "      <td>886.200000</td>\n",
       "      <td>539.4</td>\n",
       "      <td>243.2</td>\n",
       "      <td>106.000000</td>\n",
       "      <td>78.800000</td>\n",
       "      <td>79.200000</td>\n",
       "      <td>66.800000</td>\n",
       "      <td>62.8</td>\n",
       "      <td>72.2</td>\n",
       "      <td>81.2</td>\n",
       "      <td>99.600000</td>\n",
       "      <td>133.200000</td>\n",
       "      <td>176.800000</td>\n",
       "      <td>241.0</td>\n",
       "      <td>359.0</td>\n",
       "      <td>5.0</td>\n",
       "    </tr>\n",
       "  </tbody>\n",
       "</table>\n",
       "</div>"
      ],
      "text/plain": [
       "                     1          1.5           2      3      5           7  \\\n",
       "Drilling Meter                                                              \n",
       "0                244.4   223.000000  252.000000  262.6  255.0  304.200000   \n",
       "50               292.5   245.500000  215.000000  202.5  203.0  134.500000   \n",
       "55               282.0   235.666667  229.666667  125.0   90.0   72.333333   \n",
       "60               856.0   955.000000  713.000000  527.5  271.5   90.000000   \n",
       "65               781.6   701.400000  631.400000  419.6  277.4  114.800000   \n",
       "70              1261.8  1056.800000  886.200000  539.4  243.2  106.000000   \n",
       "\n",
       "                        10          15          20     25     30     40  \\\n",
       "Drilling Meter                                                            \n",
       "0               355.000000  398.200000  322.600000  297.0  404.2  493.4   \n",
       "50              108.500000   46.500000   48.500000   53.5   49.0   55.5   \n",
       "55               45.666667   44.666667   48.333333   54.0   65.0   65.0   \n",
       "60               45.500000   39.000000   38.000000   41.5   55.5   48.5   \n",
       "65               74.200000   73.200000   62.400000   66.6   77.8  100.0   \n",
       "70               78.800000   79.200000   66.800000   62.8   72.2   81.2   \n",
       "\n",
       "                        50          60          70     80    100  Layers  \n",
       "Drilling Meter                                                            \n",
       "0               528.000000  542.200000  598.400000  695.4  795.4     5.0  \n",
       "50               91.000000  100.000000  130.000000  145.0  201.0     5.0  \n",
       "55               96.666667  113.333333  132.333333  144.0  189.0     5.0  \n",
       "60               74.000000   86.500000   84.500000   90.5  148.0     5.0  \n",
       "65              124.400000  172.600000  220.600000  281.0  339.6     5.0  \n",
       "70               99.600000  133.200000  176.800000  241.0  359.0     5.0  "
      ]
     },
     "execution_count": 82,
     "metadata": {},
     "output_type": "execute_result"
    }
   ],
   "source": [
    "drilling_data.groupby('Drilling Meter').mean()"
   ]
  },
  {
   "cell_type": "code",
   "execution_count": 83,
   "id": "61d5e526",
   "metadata": {},
   "outputs": [
    {
     "data": {
      "text/plain": [
       "Drilling Meter    22\n",
       "dtype: int64"
      ]
     },
     "execution_count": 83,
     "metadata": {},
     "output_type": "execute_result"
    }
   ],
   "source": [
    "#  seperating dataa from label\n",
    "X = drilling_data.drop(columns=['Drilling Meter', 'Recommendation', 'Layers'], axis=1)\n",
    "Y = drilling_data[['Drilling Meter']]\n",
    "Y.count()"
   ]
  },
  {
   "cell_type": "code",
   "execution_count": 106,
   "id": "be4b9baf",
   "metadata": {},
   "outputs": [],
   "source": [
    "# Training and Test Data\n",
    "X_train, X_test, Y_train, Y_test = train_test_split(X, Y, test_size= 0.1, random_state=1)"
   ]
  },
  {
   "cell_type": "code",
   "execution_count": 107,
   "id": "2cbdb5c8",
   "metadata": {},
   "outputs": [
    {
     "name": "stdout",
     "output_type": "stream",
     "text": [
      "(22, 17) (19, 17) (3, 17)\n"
     ]
    }
   ],
   "source": [
    "print(X.shape, X_train.shape, X_test.shape)"
   ]
  },
  {
   "cell_type": "code",
   "execution_count": 108,
   "id": "46a8792d",
   "metadata": {},
   "outputs": [],
   "source": [
    "# Model Training --> Logistic Regression\n",
    "model = LogisticRegression()"
   ]
  },
  {
   "cell_type": "code",
   "execution_count": 112,
   "id": "474a1ade",
   "metadata": {},
   "outputs": [
    {
     "name": "stderr",
     "output_type": "stream",
     "text": [
      "C:\\Users\\ZAINAB\\anaconda3\\Lib\\site-packages\\sklearn\\utils\\validation.py:1184: DataConversionWarning: A column-vector y was passed when a 1d array was expected. Please change the shape of y to (n_samples, ), for example using ravel().\n",
      "  y = column_or_1d(y, warn=True)\n",
      "C:\\Users\\ZAINAB\\anaconda3\\Lib\\site-packages\\sklearn\\linear_model\\_logistic.py:460: ConvergenceWarning: lbfgs failed to converge (status=1):\n",
      "STOP: TOTAL NO. of ITERATIONS REACHED LIMIT.\n",
      "\n",
      "Increase the number of iterations (max_iter) or scale the data as shown in:\n",
      "    https://scikit-learn.org/stable/modules/preprocessing.html\n",
      "Please also refer to the documentation for alternative solver options:\n",
      "    https://scikit-learn.org/stable/modules/linear_model.html#logistic-regression\n",
      "  n_iter_i = _check_optimize_result(\n"
     ]
    },
    {
     "data": {
      "text/html": [
       "<style>#sk-container-id-1 {color: black;}#sk-container-id-1 pre{padding: 0;}#sk-container-id-1 div.sk-toggleable {background-color: white;}#sk-container-id-1 label.sk-toggleable__label {cursor: pointer;display: block;width: 100%;margin-bottom: 0;padding: 0.3em;box-sizing: border-box;text-align: center;}#sk-container-id-1 label.sk-toggleable__label-arrow:before {content: \"▸\";float: left;margin-right: 0.25em;color: #696969;}#sk-container-id-1 label.sk-toggleable__label-arrow:hover:before {color: black;}#sk-container-id-1 div.sk-estimator:hover label.sk-toggleable__label-arrow:before {color: black;}#sk-container-id-1 div.sk-toggleable__content {max-height: 0;max-width: 0;overflow: hidden;text-align: left;background-color: #f0f8ff;}#sk-container-id-1 div.sk-toggleable__content pre {margin: 0.2em;color: black;border-radius: 0.25em;background-color: #f0f8ff;}#sk-container-id-1 input.sk-toggleable__control:checked~div.sk-toggleable__content {max-height: 200px;max-width: 100%;overflow: auto;}#sk-container-id-1 input.sk-toggleable__control:checked~label.sk-toggleable__label-arrow:before {content: \"▾\";}#sk-container-id-1 div.sk-estimator input.sk-toggleable__control:checked~label.sk-toggleable__label {background-color: #d4ebff;}#sk-container-id-1 div.sk-label input.sk-toggleable__control:checked~label.sk-toggleable__label {background-color: #d4ebff;}#sk-container-id-1 input.sk-hidden--visually {border: 0;clip: rect(1px 1px 1px 1px);clip: rect(1px, 1px, 1px, 1px);height: 1px;margin: -1px;overflow: hidden;padding: 0;position: absolute;width: 1px;}#sk-container-id-1 div.sk-estimator {font-family: monospace;background-color: #f0f8ff;border: 1px dotted black;border-radius: 0.25em;box-sizing: border-box;margin-bottom: 0.5em;}#sk-container-id-1 div.sk-estimator:hover {background-color: #d4ebff;}#sk-container-id-1 div.sk-parallel-item::after {content: \"\";width: 100%;border-bottom: 1px solid gray;flex-grow: 1;}#sk-container-id-1 div.sk-label:hover label.sk-toggleable__label {background-color: #d4ebff;}#sk-container-id-1 div.sk-serial::before {content: \"\";position: absolute;border-left: 1px solid gray;box-sizing: border-box;top: 0;bottom: 0;left: 50%;z-index: 0;}#sk-container-id-1 div.sk-serial {display: flex;flex-direction: column;align-items: center;background-color: white;padding-right: 0.2em;padding-left: 0.2em;position: relative;}#sk-container-id-1 div.sk-item {position: relative;z-index: 1;}#sk-container-id-1 div.sk-parallel {display: flex;align-items: stretch;justify-content: center;background-color: white;position: relative;}#sk-container-id-1 div.sk-item::before, #sk-container-id-1 div.sk-parallel-item::before {content: \"\";position: absolute;border-left: 1px solid gray;box-sizing: border-box;top: 0;bottom: 0;left: 50%;z-index: -1;}#sk-container-id-1 div.sk-parallel-item {display: flex;flex-direction: column;z-index: 1;position: relative;background-color: white;}#sk-container-id-1 div.sk-parallel-item:first-child::after {align-self: flex-end;width: 50%;}#sk-container-id-1 div.sk-parallel-item:last-child::after {align-self: flex-start;width: 50%;}#sk-container-id-1 div.sk-parallel-item:only-child::after {width: 0;}#sk-container-id-1 div.sk-dashed-wrapped {border: 1px dashed gray;margin: 0 0.4em 0.5em 0.4em;box-sizing: border-box;padding-bottom: 0.4em;background-color: white;}#sk-container-id-1 div.sk-label label {font-family: monospace;font-weight: bold;display: inline-block;line-height: 1.2em;}#sk-container-id-1 div.sk-label-container {text-align: center;}#sk-container-id-1 div.sk-container {/* jupyter's `normalize.less` sets `[hidden] { display: none; }` but bootstrap.min.css set `[hidden] { display: none !important; }` so we also need the `!important` here to be able to override the default hidden behavior on the sphinx rendered scikit-learn.org. See: https://github.com/scikit-learn/scikit-learn/issues/21755 */display: inline-block !important;position: relative;}#sk-container-id-1 div.sk-text-repr-fallback {display: none;}</style><div id=\"sk-container-id-1\" class=\"sk-top-container\"><div class=\"sk-text-repr-fallback\"><pre>LogisticRegression()</pre><b>In a Jupyter environment, please rerun this cell to show the HTML representation or trust the notebook. <br />On GitHub, the HTML representation is unable to render, please try loading this page with nbviewer.org.</b></div><div class=\"sk-container\" hidden><div class=\"sk-item\"><div class=\"sk-estimator sk-toggleable\"><input class=\"sk-toggleable__control sk-hidden--visually\" id=\"sk-estimator-id-1\" type=\"checkbox\" checked><label for=\"sk-estimator-id-1\" class=\"sk-toggleable__label sk-toggleable__label-arrow\">LogisticRegression</label><div class=\"sk-toggleable__content\"><pre>LogisticRegression()</pre></div></div></div></div></div>"
      ],
      "text/plain": [
       "LogisticRegression()"
      ]
     },
     "execution_count": 112,
     "metadata": {},
     "output_type": "execute_result"
    }
   ],
   "source": [
    "# training the model with training data\n",
    "model.fit(X_train, Y_train)"
   ]
  },
  {
   "cell_type": "code",
   "execution_count": 88,
   "id": "4ca6214d",
   "metadata": {},
   "outputs": [
    {
     "data": {
      "text/html": [
       "<div>\n",
       "<style scoped>\n",
       "    .dataframe tbody tr th:only-of-type {\n",
       "        vertical-align: middle;\n",
       "    }\n",
       "\n",
       "    .dataframe tbody tr th {\n",
       "        vertical-align: top;\n",
       "    }\n",
       "\n",
       "    .dataframe thead th {\n",
       "        text-align: right;\n",
       "    }\n",
       "</style>\n",
       "<table border=\"1\" class=\"dataframe\">\n",
       "  <thead>\n",
       "    <tr style=\"text-align: right;\">\n",
       "      <th></th>\n",
       "      <th>1</th>\n",
       "      <th>1.5</th>\n",
       "      <th>2</th>\n",
       "      <th>3</th>\n",
       "      <th>5</th>\n",
       "      <th>7</th>\n",
       "      <th>10</th>\n",
       "      <th>15</th>\n",
       "      <th>20</th>\n",
       "      <th>25</th>\n",
       "      <th>30</th>\n",
       "      <th>40</th>\n",
       "      <th>50</th>\n",
       "      <th>60</th>\n",
       "      <th>70</th>\n",
       "      <th>80</th>\n",
       "      <th>100</th>\n",
       "    </tr>\n",
       "  </thead>\n",
       "  <tbody>\n",
       "    <tr>\n",
       "      <th>0</th>\n",
       "      <td>1234</td>\n",
       "      <td>1123</td>\n",
       "      <td>896</td>\n",
       "      <td>543</td>\n",
       "      <td>564</td>\n",
       "      <td>786</td>\n",
       "      <td>987</td>\n",
       "      <td>942</td>\n",
       "      <td>1123</td>\n",
       "      <td>1234</td>\n",
       "      <td>1256</td>\n",
       "      <td>891</td>\n",
       "      <td>784</td>\n",
       "      <td>324</td>\n",
       "      <td>64</td>\n",
       "      <td>974</td>\n",
       "      <td>349</td>\n",
       "    </tr>\n",
       "  </tbody>\n",
       "</table>\n",
       "</div>"
      ],
      "text/plain": [
       "      1   1.5    2    3    5    7   10   15    20    25    30   40   50   60  \\\n",
       "0  1234  1123  896  543  564  786  987  942  1123  1234  1256  891  784  324   \n",
       "\n",
       "   70   80  100  \n",
       "0  64  974  349  "
      ]
     },
     "execution_count": 88,
     "metadata": {},
     "output_type": "execute_result"
    }
   ],
   "source": [
    "# Load the test data\n",
    "test_data = pd.read_csv('Test2.csv')\n",
    "test_data"
   ]
  },
  {
   "cell_type": "code",
   "execution_count": 113,
   "id": "6a79e1b7",
   "metadata": {},
   "outputs": [
    {
     "name": "stdout",
     "output_type": "stream",
     "text": [
      "1.0\n"
     ]
    }
   ],
   "source": [
    "# Training accuracy\n",
    "X_train_prediction = model.predict(X_train)\n",
    "accuracy_test = accuracy_score(X_train_prediction, Y_train)\n",
    "print(accuracy_test)"
   ]
  },
  {
   "cell_type": "code",
   "execution_count": 115,
   "id": "bf50872b",
   "metadata": {},
   "outputs": [
    {
     "name": "stdout",
     "output_type": "stream",
     "text": [
      "[0]\n"
     ]
    }
   ],
   "source": [
    "X_test = test_data\n",
    "# Y_test = test_data  # Assuming you want to predict 'Recommendation'\n",
    "\n",
    "# Make predictions on the test data\n",
    "Y_test_prediction = model.predict(X_test)\n",
    "print(Y_test_prediction)\n",
    "# Evaluate the model's accuracy on the test data\n",
    "# accuracy_t = accuracy_score(Y_test_prediction, Y_test)\n",
    "# print(f\"Accuracy on test data: {accuracy_t}\")"
   ]
  },
  {
   "cell_type": "code",
   "execution_count": 104,
   "id": "79b03f94",
   "metadata": {},
   "outputs": [
    {
     "name": "stdout",
     "output_type": "stream",
     "text": [
      "[60 'Good for groundwater' 5 70 'Good for groundwater' 5 50\n",
      " 'Good for groundwater' 5 0 'Not recommended' 5 0 'Not recommended' 5 55\n",
      " 'Good for groundwater' 5 65 'Good for groundwater' 5 65\n",
      " 'Good for groundwater' 5 55 'Good for groundwater' 5 65\n",
      " 'Good for groundwater' 5 70 'Good for groundwater' 5 65\n",
      " 'Good for groundwater' 5 70 'Good for groundwater' 5 55\n",
      " 'Good for groundwater' 5 60 'Good for groundwater' 5 65\n",
      " 'Good for groundwater' 5 70 'Good for groundwater' 5 50\n",
      " 'Good for groundwater' 5 70 'Good for groundwater' 5 0 'Not recommended'\n",
      " 5 0 'Not recommended' 5 0 'Not recommended' 5]\n"
     ]
    }
   ],
   "source": [
    "prinp.array(drilling_data[['Drilling Meter', 'Recommendation', 'Layers']]).flatten()"
   ]
  },
  {
   "cell_type": "code",
   "execution_count": null,
   "id": "5e1f2ab2",
   "metadata": {},
   "outputs": [],
   "source": []
  }
 ],
 "metadata": {
  "kernelspec": {
   "display_name": "Python 3 (ipykernel)",
   "language": "python",
   "name": "python3"
  },
  "language_info": {
   "codemirror_mode": {
    "name": "ipython",
    "version": 3
   },
   "file_extension": ".py",
   "mimetype": "text/x-python",
   "name": "python",
   "nbconvert_exporter": "python",
   "pygments_lexer": "ipython3",
   "version": "3.11.4"
  }
 },
 "nbformat": 4,
 "nbformat_minor": 5
}
